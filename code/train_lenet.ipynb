{
 "cells": [
  {
   "cell_type": "code",
   "execution_count": 1,
   "metadata": {},
   "outputs": [],
   "source": [
    "import pandas as pd\n",
    "import numpy as np\n",
    "import matplotlib.pyplot as plt\n",
    "from sklearn import preprocessing\n",
    "import matplotlib.image as mpimg\n",
    "\n",
    "scaler = preprocessing.MinMaxScaler((0,1))\n",
    "plt.rcParams['savefig.dpi'] = 50"
   ]
  },
  {
   "cell_type": "markdown",
   "metadata": {},
   "source": [
    "### Try gen more samples"
   ]
  },
  {
   "cell_type": "code",
   "execution_count": 2,
   "metadata": {},
   "outputs": [],
   "source": [
    "with open('./Baseline/abstar_template/flare_star.txt') as f:\n",
    "    fs=f.readlines()\n",
    "with open('./Baseline/abstar_template/microlensing.txt') as f:\n",
    "    ml=f.readlines()\n",
    "fs=np.array([eval(i) for i in fs])\n",
    "ml=np.array([eval(i) for i in ml])"
   ]
  },
  {
   "cell_type": "code",
   "execution_count": 3,
   "metadata": {},
   "outputs": [],
   "source": [
    "def squeeze_tgt(ar, tgt_length):\n",
    "    raw_len = len(ar)\n",
    "    coef = float(raw_len) / float(tgt_length)\n",
    "    return np.interp(np.arange(tgt_length) * coef , np.arange(raw_len), ar)"
   ]
  },
  {
   "cell_type": "code",
   "execution_count": 4,
   "metadata": {},
   "outputs": [],
   "source": [
    "# fs_sqed=squeeze_tgt(fs, 60)\n",
    "fs=scaler.fit_transform(fs.reshape(-1,1)).reshape(1,-1)[0]\n",
    "# ml_sqed=squeeze_tgt(ml, 60)\n",
    "ml=scaler.fit_transform(ml.reshape(-1,1)).reshape(1,-1)[0]"
   ]
  },
  {
   "cell_type": "code",
   "execution_count": 5,
   "metadata": {},
   "outputs": [],
   "source": [
    "#home made template for backup\n",
    "ml_home_made=np.array([ 1.,0.98677131,0.96791697,0.93781135,0.89608109,0.8485385,\n",
    "  0.78395594, 0.71414581, 0.63388054, 0.54466581, 0.45097635, 0.34690623,\n",
    "  0.24059732, 0.12981085, 0.0172702 ,-0.09614754,-0.20791206,-0.31770684,\n",
    " -0.42356213,-0.52280604,-0.61874426,-0.70120434,-0.77818917,-0.8442235,\n",
    " -0.8978359 ,-0.94523732,-0.97262153,-0.99315825,-1.        ,-0.99336329,\n",
    " -0.97998735,-0.94751778,-0.90929573,-0.85956872,-0.79995783,-0.73540499,\n",
    " -0.65891448,-0.57950872,-0.49427243,-0.40543017,-0.31478492,-0.22205548,\n",
    " -0.12968627,-0.03803755, 0.05097536, 0.13867037, 0.21994132, 0.29840999,\n",
    "  0.3712741 , 0.43757406, 0.50059196, 0.55289295, 0.60151917, 0.64279583,\n",
    "  0.67687057, 0.70734435, 0.72770549, 0.74505508, 0.75638158, 0.76015708])\n",
    "ml_home_made=scaler.fit_transform(ml_home_made.reshape(-1,1)).reshape(1,-1)[0]"
   ]
  },
  {
   "cell_type": "markdown",
   "metadata": {},
   "source": [
    "#### gen 2D samples"
   ]
  },
  {
   "cell_type": "code",
   "execution_count": 6,
   "metadata": {},
   "outputs": [],
   "source": [
    "from io import BytesIO"
   ]
  },
  {
   "cell_type": "code",
   "execution_count": 7,
   "metadata": {},
   "outputs": [],
   "source": [
    "def img_to_array(imageFile):\n",
    "    img = mpimg.imread(imageFile).astype(np.float)\n",
    "    img=img[:,:,0]\n",
    "    img=1-img\n",
    "#     img[img!=0]=1\n",
    "    return img.reshape((50,50,1))"
   ]
  },
  {
   "cell_type": "code",
   "execution_count": 8,
   "metadata": {},
   "outputs": [],
   "source": [
    "def gen_img_rand_samples(template):\n",
    "\n",
    "    #width stand for density\n",
    "    width=np.random.randint(30, 300)\n",
    "#     width=50\n",
    "    template=squeeze_tgt(template, width)\n",
    "#     print('width:{}'.format(width))\n",
    "\n",
    "    pad_total=np.random.randint(width*0.5, width*2)\n",
    "#     pad_total=width\n",
    "    left_pad=np.random.randint(0, pad_total)\n",
    "    right_pad=pad_total-left_pad\n",
    "\n",
    "    template=np.pad(template,(left_pad,right_pad), mode='constant',constant_values=template.max())\n",
    "        \n",
    "    fig,ax=plt.subplots(figsize=(1,1))\n",
    "\n",
    "    ax.scatter(np.arange(width+pad_total)+np.random.normal(loc=0, scale=1, size=width+pad_total)/10,\\\n",
    "               template+np.random.normal(loc=0, scale=1, size=width+pad_total)/10,\\\n",
    "               color='black',alpha=0.7,s=3)\n",
    "    ax.invert_yaxis()\n",
    "    ax.axis('off')\n",
    "    ax.margins(0, 0)\n",
    "#     plt.show()\n",
    "    #申请缓冲地址\n",
    "    buffer_ = BytesIO()\n",
    "    plt.savefig(buffer_,format = 'png')\n",
    "    plt.close(fig)\n",
    "    buffer_.seek(0)\n",
    "    #从内存中读取\n",
    "    img_tmp=img_to_array(buffer_)\n",
    "    #释放缓存    \n",
    "    buffer_.close()\n",
    "    return img_tmp\n"
   ]
  },
  {
   "cell_type": "code",
   "execution_count": 9,
   "metadata": {},
   "outputs": [
    {
     "data": {
      "text/plain": [
       "<matplotlib.image.AxesImage at 0x20bbcd29ec8>"
      ]
     },
     "execution_count": 9,
     "metadata": {},
     "output_type": "execute_result"
    },
    {
     "data": {
      "image/png": "[encoded data removed]",
      "text/plain": [
       "<Figure size 432x288 with 1 Axes>"
      ]
     },
     "metadata": {
      "needs_background": "light"
     },
     "output_type": "display_data"
    }
   ],
   "source": [
    "img_tmp=gen_img_rand_samples(fs)\n",
    "plt.imshow(img_tmp.reshape(50,50))"
   ]
  },
  {
   "cell_type": "code",
   "execution_count": 10,
   "metadata": {},
   "outputs": [],
   "source": [
    "def gen_img_rand_0_samples():\n",
    "    size_rnd=np.random.randint(30, 300)\n",
    "#     size_rnd=300\n",
    "    rand_sca=np.random.normal(loc=0, scale=1, size=size_rnd) \n",
    "\n",
    "    add_times=np.random.randint(1, 5)\n",
    "#     print(add_times)\n",
    "    for t in range(add_times):\n",
    "        th = np.linspace(0, 2*np.pi, size_rnd)\n",
    "        rand_shift=np.random.normal(loc=0, scale=1)\n",
    "        rand_sca_t=np.cos(0.5*th*np.sign(rand_shift)+rand_shift)\n",
    "#         rand_sca_t=scaler.fit_transform(rand_sca_t.reshape(-1,1)).reshape(1,-1)[0]\n",
    "        rand_sca=rand_sca+rand_sca_t/add_times+np.random.normal(loc=0, scale=1, size=size_rnd)/10\n",
    "#     rand_sca=scaler.fit_transform(rand_sca.reshape(-1,1)).reshape(1,-1)[0]\n",
    "    \n",
    "    fig,ax=plt.subplots(figsize=(1,1))\n",
    "\n",
    "    ax.scatter(np.arange(size_rnd)+np.random.normal(loc=0, scale=1, size=size_rnd)/10,\\\n",
    "               rand_sca,\\\n",
    "               color='black',alpha=0.7,s=3)\n",
    "    ax.invert_yaxis()\n",
    "    ax.axis('off')\n",
    "    ax.margins(0, 0)\n",
    "#     plt.show()\n",
    "    #申请缓冲地址\n",
    "    buffer_ = BytesIO()\n",
    "    plt.savefig(buffer_,format = 'png')\n",
    "    plt.close(fig)\n",
    "    buffer_.seek(0)\n",
    "    #从内存中读取\n",
    "    img_tmp=img_to_array(buffer_)\n",
    "    #释放缓存    \n",
    "    buffer_.close()\n",
    "    return img_tmp"
   ]
  },
  {
   "cell_type": "code",
   "execution_count": 11,
   "metadata": {},
   "outputs": [
    {
     "data": {
      "text/plain": [
       "<matplotlib.image.AxesImage at 0x20bbcdcc908>"
      ]
     },
     "execution_count": 11,
     "metadata": {},
     "output_type": "execute_result"
    },
    {
     "data": {
      "image/png": "[encoded data removed]",
      "text/plain": [
       "<Figure size 432x288 with 1 Axes>"
      ]
     },
     "metadata": {
      "needs_background": "light"
     },
     "output_type": "display_data"
    }
   ],
   "source": [
    "img_tmp=gen_img_rand_0_samples()\n",
    "plt.imshow(img_tmp.reshape(50,50))"
   ]
  },
  {
   "cell_type": "markdown",
   "metadata": {},
   "source": [
    "#### 2D MNIST MODEL"
   ]
  },
  {
   "cell_type": "code",
   "execution_count": 12,
   "metadata": {},
   "outputs": [],
   "source": [
    "import numpy as np\n",
    "from tensorflow import keras\n",
    "from tensorflow.keras import layers"
   ]
  },
  {
   "cell_type": "code",
   "execution_count": 13,
   "metadata": {},
   "outputs": [],
   "source": [
    "import matplotlib.image as mpimg"
   ]
  },
  {
   "cell_type": "markdown",
   "metadata": {},
   "source": [
    "##### Gen Train data set"
   ]
  },
  {
   "cell_type": "code",
   "execution_count": 35,
   "metadata": {},
   "outputs": [],
   "source": [
    "import glob\n",
    "path_0 = \"./Train92/0/*.png\"\n",
    "# path_0 = \"./Finded_0909/*.png\"\n",
    "path_1 = \"./Train92/1/*.png\"\n",
    "path_2 = \"./Train92/2/*.png\"\n",
    "pool_0=[imageFile for imageFile in glob.glob(path_0)]\n",
    "pool_1=[imageFile for imageFile in glob.glob(path_1)]\n",
    "pool_2=[imageFile for imageFile in glob.glob(path_2)]"
   ]
  },
  {
   "cell_type": "code",
   "execution_count": 36,
   "metadata": {},
   "outputs": [
    {
     "data": {
      "text/plain": [
       "154"
      ]
     },
     "execution_count": 36,
     "metadata": {},
     "output_type": "execute_result"
    }
   ],
   "source": [
    "len(pool_0)"
   ]
  },
  {
   "cell_type": "code",
   "execution_count": 16,
   "metadata": {},
   "outputs": [],
   "source": [
    "train_sample_size=3000\n",
    "x_train = np.zeros((train_sample_size, 50,50,1))\n",
    "y_train = np.zeros((train_sample_size,3))"
   ]
  },
  {
   "cell_type": "code",
   "execution_count": 37,
   "metadata": {},
   "outputs": [],
   "source": [
    "# [0,0,1]2 for ml\n",
    "# [0,1,0]1 for fs\n",
    "# [1,0,0]0 for blank\n",
    "y0=np.array([1,0,0])\n",
    "y1=np.array([0,1,0])\n",
    "y2=np.array([0,0,1])\n",
    "\n",
    "sample_monitor0=[]\n",
    "sample_monitor1=[]\n",
    "sample_monitor2=[]\n",
    "for i in range(train_sample_size):\n",
    "    rnd_2=np.random.randint(len(pool_2))\n",
    "    rnd_1=np.random.randint(len(pool_1))\n",
    "    rnd_0=np.random.randint(len(pool_0))\n",
    "    \n",
    "    ml_fs_bl=np.argmax(np.random.normal(loc=0, scale=1, size=3))\n",
    "\n",
    "\n",
    "    \n",
    "    if ml_fs_bl==2:\n",
    "        if i<=24:\n",
    "            x_train[i] = img_to_array(pool_2[rnd_2])\n",
    "            sample_monitor2.append(rnd_2)\n",
    "        else:\n",
    "            x_train[i]=gen_img_rand_samples(ml)\n",
    "        y_train[i] = y2\n",
    "    elif ml_fs_bl==1:\n",
    "        if i<=80:\n",
    "            x_train[i] = img_to_array(pool_1[rnd_1])\n",
    "            sample_monitor1.append(rnd_1)\n",
    "        else:\n",
    "            x_train[i]=gen_img_rand_samples(fs)\n",
    "        y_train[i] = y1\n",
    "    else:\n",
    "        if i<=1000:\n",
    "            x_train[i] = img_to_array(pool_0[rnd_0])\n",
    "        else:\n",
    "            x_train[i] = gen_img_rand_0_samples()\n",
    "        y_train[i] = y0"
   ]
  },
  {
   "cell_type": "code",
   "execution_count": 38,
   "metadata": {},
   "outputs": [
    {
     "name": "stdout",
     "output_type": "stream",
     "text": [
      "{0, 1, 2}\n",
      "{0, 1, 2, 3, 4, 5, 6, 7, 8, 9}\n"
     ]
    }
   ],
   "source": [
    "print(set(sample_monitor2))\n",
    "print(set(sample_monitor1))"
   ]
  },
  {
   "cell_type": "code",
   "execution_count": 21,
   "metadata": {},
   "outputs": [
    {
     "data": {
      "text/plain": [
       "<matplotlib.image.AxesImage at 0x20b90930f48>"
      ]
     },
     "execution_count": 21,
     "metadata": {},
     "output_type": "execute_result"
    },
    {
     "data": {
      "image/png": "[encoded data removed]",
      "text/plain": [
       "<Figure size 432x288 with 1 Axes>"
      ]
     },
     "metadata": {
      "needs_background": "light"
     },
     "output_type": "display_data"
    }
   ],
   "source": [
    "plt.imshow(x_train[2100].reshape(50,50))"
   ]
  },
  {
   "cell_type": "code",
   "execution_count": 57,
   "metadata": {},
   "outputs": [],
   "source": [
    "#gen manmade samples only\n",
    "for i in range(train_sample_size):\n",
    "    ml_fs_bl=np.argmax(np.random.normal(loc=0, scale=1, size=3))\n",
    "    if ml_fs_bl==2:\n",
    "        x_train[i]=gen_img_rand_samples(ml_home_made)\n",
    "        y_train[i] = y2\n",
    "    elif ml_fs_bl==1:\n",
    "        x_train[i]=gen_img_rand_samples(fs)\n",
    "        y_train[i] = y1\n",
    "    else:\n",
    "        x_train[i] = gen_img_rand_0_samples()\n",
    "        y_train[i] = y0"
   ]
  },
  {
   "cell_type": "code",
   "execution_count": 36,
   "metadata": {},
   "outputs": [],
   "source": [
    "#train sample only\n",
    "sample_monitor0=[]\n",
    "sample_monitor1=[]\n",
    "sample_monitor2=[]\n",
    "for i in range(train_sample_size):\n",
    "    rnd_2=np.random.randint(len(pool_2))\n",
    "    rnd_1=np.random.randint(len(pool_1))\n",
    "    rnd_0=np.random.randint(len(pool_0))\n",
    "    \n",
    "    ml_fs_bl=np.argmax(np.random.normal(loc=0, scale=1, size=8))\n",
    "\n",
    "\n",
    "    \n",
    "    if ml_fs_bl==2:\n",
    "        if i<=2000:\n",
    "            x_train[i] = img_to_array(pool_2[rnd_2])\n",
    "            sample_monitor2.append(rnd_2)\n",
    "        else:\n",
    "            x_train[i]=gen_img_rand_samples(ml)\n",
    "        y_train[i] = y2\n",
    "    elif ml_fs_bl==1:\n",
    "        if i<=2000:\n",
    "            x_train[i] = img_to_array(pool_1[rnd_1])\n",
    "            sample_monitor1.append(rnd_1)\n",
    "        else:\n",
    "            x_train[i]=gen_img_rand_samples(fs)\n",
    "        y_train[i] = y1\n",
    "    else:\n",
    "        if i<=2000:\n",
    "            x_train[i] = img_to_array(pool_0[rnd_0])\n",
    "        else:\n",
    "            x_train[i] = gen_img_rand_0_samples()\n",
    "        y_train[i] = y0"
   ]
  },
  {
   "cell_type": "markdown",
   "metadata": {},
   "source": [
    "#### data parpare done"
   ]
  },
  {
   "cell_type": "code",
   "execution_count": 23,
   "metadata": {},
   "outputs": [],
   "source": [
    "num_classes = 3\n",
    "input_shape = (50,50,1)"
   ]
  },
  {
   "cell_type": "code",
   "execution_count": 24,
   "metadata": {},
   "outputs": [
    {
     "data": {
      "text/plain": [
       "(3000, 50, 50, 1)"
      ]
     },
     "execution_count": 24,
     "metadata": {},
     "output_type": "execute_result"
    }
   ],
   "source": [
    "x_train.shape"
   ]
  },
  {
   "cell_type": "code",
   "execution_count": 25,
   "metadata": {},
   "outputs": [
    {
     "data": {
      "text/plain": [
       "(3000, 3)"
      ]
     },
     "execution_count": 25,
     "metadata": {},
     "output_type": "execute_result"
    }
   ],
   "source": [
    "y_train.shape"
   ]
  },
  {
   "cell_type": "code",
   "execution_count": 23,
   "metadata": {
    "collapsed": true,
    "jupyter": {
     "outputs_hidden": true
    }
   },
   "outputs": [
    {
     "name": "stdout",
     "output_type": "stream",
     "text": [
      "Model: \"sequential\"\n",
      "_________________________________________________________________\n",
      "Layer (type)                 Output Shape              Param #   \n",
      "=================================================================\n",
      "conv2d (Conv2D)              (None, 28, 28, 6)         3180      \n",
      "_________________________________________________________________\n",
      "max_pooling2d (MaxPooling2D) (None, 14, 14, 6)         0         \n",
      "_________________________________________________________________\n",
      "conv2d_1 (Conv2D)            (None, 10, 10, 16)        2416      \n",
      "_________________________________________________________________\n",
      "max_pooling2d_1 (MaxPooling2 (None, 5, 5, 16)          0         \n",
      "_________________________________________________________________\n",
      "flatten (Flatten)            (None, 400)               0         \n",
      "_________________________________________________________________\n",
      "dense (Dense)                (None, 120)               48120     \n",
      "_________________________________________________________________\n",
      "dropout (Dropout)            (None, 120)               0         \n",
      "_________________________________________________________________\n",
      "dense_1 (Dense)              (None, 84)                10164     \n",
      "_________________________________________________________________\n",
      "dense_2 (Dense)              (None, 3)                 255       \n",
      "=================================================================\n",
      "Total params: 64,135\n",
      "Trainable params: 64,135\n",
      "Non-trainable params: 0\n",
      "_________________________________________________________________\n"
     ]
    }
   ],
   "source": [
    "#LeNet\n",
    "# model = keras.Sequential(\n",
    "#     [\n",
    "#         keras.Input(shape=input_shape),\n",
    "#         layers.Conv2D(6, kernel_size=(23, 23),activation=\"relu\"),\n",
    "#         layers.MaxPooling2D(pool_size=(2, 2)),\n",
    "        \n",
    "#         layers.Conv2D(16, kernel_size=(5, 5), activation=\"relu\"),\n",
    "#         layers.MaxPooling2D(pool_size=(2, 2)),\n",
    "        \n",
    "#         layers.Flatten(),\n",
    "\n",
    "#         layers.Dense(120, activation=\"relu\"),\n",
    "#         layers.Dropout(0.5),\n",
    "#         layers.Dense(84, activation=\"relu\"),\n",
    "#         layers.Dense(num_classes, activation=\"softmax\"),\n",
    "#     ]\n",
    "# )\n",
    "\n",
    "# model.summary()"
   ]
  },
  {
   "cell_type": "code",
   "execution_count": 23,
   "metadata": {},
   "outputs": [
    {
     "name": "stdout",
     "output_type": "stream",
     "text": [
      "Model: \"sequential\"\n",
      "_________________________________________________________________\n",
      "Layer (type)                 Output Shape              Param #   \n",
      "=================================================================\n",
      "conv2d (Conv2D)              (None, 46, 46, 6)         156       \n",
      "_________________________________________________________________\n",
      "max_pooling2d (MaxPooling2D) (None, 23, 23, 6)         0         \n",
      "_________________________________________________________________\n",
      "conv2d_1 (Conv2D)            (None, 20, 20, 16)        1552      \n",
      "_________________________________________________________________\n",
      "max_pooling2d_1 (MaxPooling2 (None, 10, 10, 16)        0         \n",
      "_________________________________________________________________\n",
      "conv2d_2 (Conv2D)            (None, 8, 8, 32)          4640      \n",
      "_________________________________________________________________\n",
      "max_pooling2d_2 (MaxPooling2 (None, 4, 4, 32)          0         \n",
      "_________________________________________________________________\n",
      "flatten (Flatten)            (None, 512)               0         \n",
      "_________________________________________________________________\n",
      "dense (Dense)                (None, 120)               61560     \n",
      "_________________________________________________________________\n",
      "dropout (Dropout)            (None, 120)               0         \n",
      "_________________________________________________________________\n",
      "dense_1 (Dense)              (None, 84)                10164     \n",
      "_________________________________________________________________\n",
      "dense_2 (Dense)              (None, 3)                 255       \n",
      "=================================================================\n",
      "Total params: 78,327\n",
      "Trainable params: 78,327\n",
      "Non-trainable params: 0\n",
      "_________________________________________________________________\n"
     ]
    }
   ],
   "source": [
    "#Modify LeNet\n",
    "model = keras.Sequential(\n",
    "    [\n",
    "        keras.Input(shape=input_shape),\n",
    "        layers.Conv2D(6, kernel_size=(5, 5),activation=\"relu\"),\n",
    "        layers.MaxPooling2D(pool_size=(2, 2)),\n",
    "        \n",
    "        layers.Conv2D(16, kernel_size=(4, 4), activation=\"relu\"),\n",
    "        layers.MaxPooling2D(pool_size=(2, 2)),\n",
    "        \n",
    "        layers.Conv2D(32, kernel_size=(3, 3), activation=\"relu\"),\n",
    "        layers.MaxPooling2D(pool_size=(2, 2)),\n",
    "        \n",
    "        layers.Flatten(),\n",
    "\n",
    "        layers.Dense(120, activation=\"relu\"),\n",
    "        layers.Dropout(0.5),\n",
    "        layers.Dense(84, activation=\"relu\"),\n",
    "        layers.Dense(num_classes, activation=\"softmax\"),\n",
    "    ]\n",
    ")\n",
    "\n",
    "model.summary()"
   ]
  },
  {
   "cell_type": "code",
   "execution_count": 26,
   "metadata": {},
   "outputs": [],
   "source": [
    "from tensorflow.keras.models import load_model\n",
    "model = load_model(\"./LeNet_20200909_img_50_50.h5\")"
   ]
  },
  {
   "cell_type": "code",
   "execution_count": 27,
   "metadata": {},
   "outputs": [
    {
     "name": "stdout",
     "output_type": "stream",
     "text": [
      "Model: \"sequential\"\n",
      "_________________________________________________________________\n",
      "Layer (type)                 Output Shape              Param #   \n",
      "=================================================================\n",
      "conv2d (Conv2D)              (None, 46, 46, 6)         156       \n",
      "_________________________________________________________________\n",
      "max_pooling2d (MaxPooling2D) (None, 23, 23, 6)         0         \n",
      "_________________________________________________________________\n",
      "conv2d_1 (Conv2D)            (None, 20, 20, 16)        1552      \n",
      "_________________________________________________________________\n",
      "max_pooling2d_1 (MaxPooling2 (None, 10, 10, 16)        0         \n",
      "_________________________________________________________________\n",
      "conv2d_2 (Conv2D)            (None, 8, 8, 32)          4640      \n",
      "_________________________________________________________________\n",
      "max_pooling2d_2 (MaxPooling2 (None, 4, 4, 32)          0         \n",
      "_________________________________________________________________\n",
      "flatten (Flatten)            (None, 512)               0         \n",
      "_________________________________________________________________\n",
      "dense (Dense)                (None, 120)               61560     \n",
      "_________________________________________________________________\n",
      "dropout (Dropout)            (None, 120)               0         \n",
      "_________________________________________________________________\n",
      "dense_1 (Dense)              (None, 84)                10164     \n",
      "_________________________________________________________________\n",
      "dense_2 (Dense)              (None, 3)                 255       \n",
      "=================================================================\n",
      "Total params: 78,327\n",
      "Trainable params: 78,327\n",
      "Non-trainable params: 0\n",
      "_________________________________________________________________\n"
     ]
    }
   ],
   "source": [
    "model.summary()"
   ]
  },
  {
   "cell_type": "code",
   "execution_count": 40,
   "metadata": {},
   "outputs": [
    {
     "name": "stdout",
     "output_type": "stream",
     "text": [
      "Train on 2700 samples, validate on 300 samples\n",
      "Epoch 1/15\n",
      "2700/2700 [==============================] - 2s 752us/sample - loss: 0.0019 - categorical_accuracy: 0.9993 - val_loss: 0.0130 - val_categorical_accuracy: 0.9967\n",
      "Epoch 2/15\n",
      "2700/2700 [==============================] - 2s 609us/sample - loss: 0.0030 - categorical_accuracy: 0.9993 - val_loss: 6.9292e-06 - val_categorical_accuracy: 1.0000\n",
      "Epoch 3/15\n",
      "2700/2700 [==============================] - 2s 618us/sample - loss: 0.0030 - categorical_accuracy: 0.9993 - val_loss: 0.0159 - val_categorical_accuracy: 0.9933\n",
      "Epoch 4/15\n",
      "2700/2700 [==============================] - 2s 611us/sample - loss: 0.0018 - categorical_accuracy: 0.9993 - val_loss: 8.7298e-05 - val_categorical_accuracy: 1.0000\n",
      "Epoch 5/15\n",
      "2700/2700 [==============================] - 2s 619us/sample - loss: 0.0045 - categorical_accuracy: 0.9985 - val_loss: 6.5668e-04 - val_categorical_accuracy: 1.0000\n",
      "Epoch 6/15\n",
      "2700/2700 [==============================] - 2s 615us/sample - loss: 0.0016 - categorical_accuracy: 0.9996 - val_loss: 5.8676e-05 - val_categorical_accuracy: 1.0000\n",
      "Epoch 7/15\n",
      "2700/2700 [==============================] - 2s 610us/sample - loss: 1.9069e-04 - categorical_accuracy: 1.0000 - val_loss: 3.6995e-04 - val_categorical_accuracy: 1.0000\n",
      "Epoch 8/15\n",
      "2700/2700 [==============================] - 2s 617us/sample - loss: 6.7849e-04 - categorical_accuracy: 1.0000 - val_loss: 2.6773e-06 - val_categorical_accuracy: 1.0000\n",
      "Epoch 9/15\n",
      "2700/2700 [==============================] - 2s 616us/sample - loss: 8.5532e-04 - categorical_accuracy: 0.9993 - val_loss: 0.0016 - val_categorical_accuracy: 1.0000\n",
      "Epoch 10/15\n",
      "2700/2700 [==============================] - 2s 615us/sample - loss: 1.5277e-04 - categorical_accuracy: 1.0000 - val_loss: 0.0118 - val_categorical_accuracy: 0.9967\n",
      "Epoch 11/15\n",
      "2700/2700 [==============================] - 2s 611us/sample - loss: 1.6532e-04 - categorical_accuracy: 1.0000 - val_loss: 9.9444e-06 - val_categorical_accuracy: 1.0000\n",
      "Epoch 12/15\n",
      "2700/2700 [==============================] - 2s 619us/sample - loss: 8.6225e-05 - categorical_accuracy: 1.0000 - val_loss: 2.6617e-05 - val_categorical_accuracy: 1.0000\n",
      "Epoch 13/15\n",
      "2700/2700 [==============================] - 2s 617us/sample - loss: 9.5514e-05 - categorical_accuracy: 1.0000 - val_loss: 5.0766e-05 - val_categorical_accuracy: 1.0000\n",
      "Epoch 14/15\n",
      "2700/2700 [==============================] - 2s 616us/sample - loss: 8.6491e-04 - categorical_accuracy: 0.9993 - val_loss: 7.0809e-06 - val_categorical_accuracy: 1.0000\n",
      "Epoch 15/15\n",
      "2700/2700 [==============================] - 2s 611us/sample - loss: 0.0041 - categorical_accuracy: 0.9989 - val_loss: 0.0034 - val_categorical_accuracy: 0.9967\n"
     ]
    },
    {
     "data": {
      "text/plain": [
       "<tensorflow.python.keras.callbacks.History at 0x20b92186fc8>"
      ]
     },
     "execution_count": 40,
     "metadata": {},
     "output_type": "execute_result"
    }
   ],
   "source": [
    "batch_size = 100\n",
    "epochs = 15\n",
    "\n",
    "model.compile(loss=\"categorical_crossentropy\", optimizer=\"adam\", metrics=[\"categorical_accuracy\"])\n",
    "\n",
    "model.fit(x_train, y_train, batch_size=batch_size, epochs=epochs, validation_split=0.1)"
   ]
  },
  {
   "cell_type": "code",
   "execution_count": 43,
   "metadata": {},
   "outputs": [
    {
     "name": "stdout",
     "output_type": "stream",
     "text": [
      "Test loss: 0.009613556071805458\n",
      "Test accuracy: 0.99666667\n"
     ]
    }
   ],
   "source": [
    "score = model.evaluate(x_train, y_train, verbose=0)\n",
    "print(\"Test loss:\", score[0])\n",
    "print(\"Test accuracy:\", score[1])"
   ]
  },
  {
   "cell_type": "code",
   "execution_count": 39,
   "metadata": {},
   "outputs": [
    {
     "data": {
      "text/plain": [
       "array([[1003,    3,    0],\n",
       "       [   0,  996,    0],\n",
       "       [   0,    0,  998]], dtype=int64)"
      ]
     },
     "execution_count": 39,
     "metadata": {},
     "output_type": "execute_result"
    }
   ],
   "source": [
    "from sklearn.metrics import confusion_matrix\n",
    "true_y=np.apply_along_axis(np.argmax,1,y_train)\n",
    "\n",
    "pred_y=model.predict(x_train)\n",
    "pred_y=np.apply_along_axis(np.argmax,1,pred_y)\n",
    "\n",
    "confusion_mat = confusion_matrix(true_y, pred_y)\n",
    "\n",
    "confusion_mat"
   ]
  },
  {
   "cell_type": "code",
   "execution_count": 84,
   "metadata": {},
   "outputs": [
    {
     "data": {
      "text/plain": [
       "<matplotlib.image.AxesImage at 0x2c44040df48>"
      ]
     },
     "execution_count": 84,
     "metadata": {},
     "output_type": "execute_result"
    },
    {
     "data": {
      "image/png": "[encoded data removed]",
      "text/plain": [
       "<Figure size 288x288 with 1 Axes>"
      ]
     },
     "metadata": {
      "needs_background": "light"
     },
     "output_type": "display_data"
    }
   ],
   "source": [
    "plt.matshow(confusion_mat, cmap='jet')#viridis,jet_r,rainbow"
   ]
  },
  {
   "cell_type": "code",
   "execution_count": 44,
   "metadata": {},
   "outputs": [],
   "source": [
    "mp = \"./LeNet_202009122_img_50_50.h5\"\n",
    "model.save(mp)"
   ]
  },
  {
   "cell_type": "code",
   "execution_count": null,
   "metadata": {},
   "outputs": [],
   "source": []
  },
  {
   "cell_type": "markdown",
   "metadata": {},
   "source": [
    "#### view Grad CAM"
   ]
  },
  {
   "cell_type": "markdown",
   "metadata": {},
   "source": [
    "##### view using image"
   ]
  },
  {
   "cell_type": "code",
   "execution_count": 29,
   "metadata": {},
   "outputs": [],
   "source": [
    "import tensorflow as tf\n",
    "import tensorflow.keras.backend as K\n",
    "import matplotlib.pyplot as plt\n",
    "from tensorflow.keras import models"
   ]
  },
  {
   "cell_type": "code",
   "execution_count": 30,
   "metadata": {},
   "outputs": [],
   "source": [
    "from scipy import interpolate"
   ]
  },
  {
   "cell_type": "code",
   "execution_count": 119,
   "metadata": {},
   "outputs": [],
   "source": [
    "from tensorflow.keras.models import load_model\n",
    "model = load_model(\"./LeNet_20200729_img_50_50.h5\")"
   ]
  },
  {
   "cell_type": "code",
   "execution_count": 183,
   "metadata": {},
   "outputs": [
    {
     "name": "stdout",
     "output_type": "stream",
     "text": [
      "Model: \"sequential\"\n",
      "_________________________________________________________________\n",
      "Layer (type)                 Output Shape              Param #   \n",
      "=================================================================\n",
      "conv2d (Conv2D)              (None, 28, 28, 6)         3180      \n",
      "_________________________________________________________________\n",
      "max_pooling2d (MaxPooling2D) (None, 14, 14, 6)         0         \n",
      "_________________________________________________________________\n",
      "conv2d_1 (Conv2D)            (None, 10, 10, 16)        2416      \n",
      "_________________________________________________________________\n",
      "max_pooling2d_1 (MaxPooling2 (None, 5, 5, 16)          0         \n",
      "_________________________________________________________________\n",
      "flatten (Flatten)            (None, 400)               0         \n",
      "_________________________________________________________________\n",
      "dense (Dense)                (None, 120)               48120     \n",
      "_________________________________________________________________\n",
      "dense_1 (Dense)              (None, 84)                10164     \n",
      "_________________________________________________________________\n",
      "dense_2 (Dense)              (None, 3)                 255       \n",
      "=================================================================\n",
      "Total params: 64,135\n",
      "Trainable params: 64,135\n",
      "Non-trainable params: 0\n",
      "_________________________________________________________________\n"
     ]
    }
   ],
   "source": [
    "model.summary()"
   ]
  },
  {
   "cell_type": "code",
   "execution_count": 45,
   "metadata": {},
   "outputs": [
    {
     "name": "stdout",
     "output_type": "stream",
     "text": [
      "./Train92/1\\ref_033_15300085-G0013_1742006_16050+828-1028.png\n"
     ]
    }
   ],
   "source": [
    "show_img_path=pool_1[5]\n",
    "print(show_img_path)\n",
    "# show_img_path='./Finded_0909/'+'ref_044_14110425-G0013_410680_28021+1452-1652.png'\n",
    "img=img_to_array(show_img_path)\n",
    "img=img.reshape(1,50,50,1)"
   ]
  },
  {
   "cell_type": "code",
   "execution_count": 81,
   "metadata": {},
   "outputs": [],
   "source": [
    "img=x_train[666].reshape(1,50,50,1)"
   ]
  },
  {
   "cell_type": "code",
   "execution_count": 46,
   "metadata": {},
   "outputs": [
    {
     "name": "stdout",
     "output_type": "stream",
     "text": [
      "1 1.0\n"
     ]
    },
    {
     "data": {
      "text/plain": [
       "<matplotlib.image.AxesImage at 0x20b920b8388>"
      ]
     },
     "execution_count": 46,
     "metadata": {},
     "output_type": "execute_result"
    },
    {
     "data": {
      "image/png": "[encoded data removed]",
      "text/plain": [
       "<Figure size 288x288 with 1 Axes>"
      ]
     },
     "metadata": {
      "needs_background": "light"
     },
     "output_type": "display_data"
    }
   ],
   "source": [
    "last_conv_layer='conv2d_2'\n",
    "\n",
    "\n",
    "predicts=model.predict(img)\n",
    "print(np.argmax(predicts[0]),predicts[0].max())\n",
    "\n",
    "# get the last conv layer\n",
    "last_conv_layer = model.get_layer(last_conv_layer)\n",
    "\n",
    "heatmap_model = models.Model([model.inputs], [last_conv_layer.output, model.output])\n",
    "\n",
    "with tf.GradientTape() as gtape:\n",
    "    conv_output, Predictions = heatmap_model(img)\n",
    "    prob = Predictions[:, np.argmax(Predictions[0])] # 最大可能性类别的预测概率\n",
    "    grads = gtape.gradient(prob, conv_output)  # 类别与卷积层的梯度 (1,14,14,512)\n",
    "    pooled_grads = K.mean(grads, axis=(0,1,2)) # 特征层梯度的全局平均代表每个特征层权重\n",
    "heatmap = tf.reduce_mean(tf.multiply(pooled_grads, conv_output), axis=-1) #权重与特征层相乘，512层求和平均\n",
    "\n",
    "heatmap = np.maximum(heatmap, 0)\n",
    "max_heat = np.max(heatmap)\n",
    "if max_heat == 0:\n",
    "    max_heat = 1e-10\n",
    "heatmap /= max_heat\n",
    "# plt.matshow(heatmap[0], cmap='jet')#viridis,jet_r,rainbow\n",
    "\n",
    "\n",
    "heatmap_sample=heatmap[0]\n",
    "\n",
    "cov_size=8\n",
    "x = np.arange(0, cov_size, 1)\n",
    "y = np.arange(0, cov_size, 1)\n",
    "\n",
    "f = interpolate.interp2d(x, y, heatmap_sample, kind='cubic')\n",
    "\n",
    "xnew = np.linspace(0, cov_size, 50)\n",
    "ynew = np.linspace(0, cov_size, 50)\n",
    "znew = f(xnew, ynew)\n",
    "\n",
    "plt.matshow(znew, cmap='jet')#viridis,jet_r,rainbow\n",
    "plt.imshow(img.reshape(50,50),cmap='Greys_r',alpha=0.5)"
   ]
  },
  {
   "cell_type": "code",
   "execution_count": null,
   "metadata": {},
   "outputs": [],
   "source": []
  }
 ],
 "metadata": {
  "kernelspec": {
   "display_name": "Python 3",
   "language": "python",
   "name": "python3"
  },
  "language_info": {
   "codemirror_mode": {
    "name": "ipython",
    "version": 3
   },
   "file_extension": ".py",
   "mimetype": "text/x-python",
   "name": "python",
   "nbconvert_exporter": "python",
   "pygments_lexer": "ipython3",
   "version": "3.7.6"
  }
 },
 "nbformat": 4,
 "nbformat_minor": 4
}
